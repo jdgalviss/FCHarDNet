{
 "cells": [
  {
   "cell_type": "code",
   "execution_count": 6,
   "metadata": {},
   "outputs": [],
   "source": [
    "import os\n",
    "import cv2\n",
    "import matplotlib.pyplot as plt"
   ]
  },
  {
   "cell_type": "code",
   "execution_count": 7,
   "metadata": {},
   "outputs": [
    {
     "name": "stdout",
     "output_type": "stream",
     "text": [
      "540\n"
     ]
    }
   ],
   "source": [
    "sdr_folder = 'output4/'\n",
    "image_paths = []\n",
    "for root, dirs, files in os.walk(sdr_folder, topdown=False):\n",
    "    for name in files:\n",
    "        image_paths.append(os.path.join(root, name))\n",
    "    #for name in dirs:\n",
    "     #   print(os.path.join(root, name))\n",
    "print(len(image_paths))\n",
    "#sort paths list\n",
    "image_paths.sort(reverse=False)"
   ]
  },
  {
   "cell_type": "code",
   "execution_count": 8,
   "metadata": {},
   "outputs": [],
   "source": [
    "dest_sdr_folder = 'data_original/sdr/'\n",
    "idx = 1\n",
    "for path in image_paths:\n",
    "    img = cv2.imread(path,1)\n",
    "    cv2.imwrite(dest_sdr_folder + str(idx) + '.png', img)\n",
    "    idx += 1"
   ]
  },
  {
   "cell_type": "code",
   "execution_count": 9,
   "metadata": {},
   "outputs": [
    {
     "name": "stdout",
     "output_type": "stream",
     "text": [
      "18\n"
     ]
    }
   ],
   "source": [
    "clean_folder = 'clean_imgs/'\n",
    "samples_per_image = 10\n",
    "repetitions = 3\n",
    "image_paths = []\n",
    "for root, dirs, files in os.walk(clean_folder, topdown=False):\n",
    "    for name in files:\n",
    "        image_paths.append(os.path.join(root, name))\n",
    "print(len(image_paths))\n",
    "#sort paths list\n",
    "image_paths.sort(reverse=False)"
   ]
  },
  {
   "cell_type": "code",
   "execution_count": 10,
   "metadata": {},
   "outputs": [],
   "source": [
    "idx = 1\n",
    "dest_clean_folder = 'data_original/original/'\n",
    "for i in range(repetitions):\n",
    "    for k in range(1,19):\n",
    "        path = clean_folder + str(k) + '.png'\n",
    "        img = cv2.imread(path,1)\n",
    "        for j in range(samples_per_image):\n",
    "            cv2.imwrite(dest_clean_folder + str(idx) + '.png', img)\n",
    "            idx += 1            \n",
    "            "
   ]
  },
  {
   "cell_type": "code",
   "execution_count": null,
   "metadata": {},
   "outputs": [],
   "source": []
  }
 ],
 "metadata": {
  "kernelspec": {
   "display_name": "Python 3",
   "language": "python",
   "name": "python3"
  },
  "language_info": {
   "codemirror_mode": {
    "name": "ipython",
    "version": 3
   },
   "file_extension": ".py",
   "mimetype": "text/x-python",
   "name": "python",
   "nbconvert_exporter": "python",
   "pygments_lexer": "ipython3",
   "version": "3.6.9"
  }
 },
 "nbformat": 4,
 "nbformat_minor": 4
}
