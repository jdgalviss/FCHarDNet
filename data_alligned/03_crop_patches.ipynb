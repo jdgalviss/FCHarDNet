{
 "cells": [
  {
   "cell_type": "code",
   "execution_count": 1,
   "metadata": {},
   "outputs": [],
   "source": [
    "import cv2\n",
    "import matplotlib.pyplot as plt\n",
    "import numpy as np\n",
    "import imutils\n",
    "import math"
   ]
  },
  {
   "cell_type": "code",
   "execution_count": 2,
   "metadata": {},
   "outputs": [],
   "source": [
    "src_path_orig = 'data_alligned/original/'\n",
    "src_path_sdr = 'data_alligned/sdr/'\n",
    "dest_path_orig = 'data/original/'\n",
    "dest_path_sdr = 'data/sdr/'"
   ]
  },
  {
   "cell_type": "code",
   "execution_count": 3,
   "metadata": {},
   "outputs": [],
   "source": [
    "sizes = [130, 260]\n",
    "FINAL_SIZE = 65\n",
    "\n",
    "k = 1\n",
    "for size in sizes:\n",
    "    for idx in range(1, 3241):\n",
    "        sdr_img = cv2.imread(src_path_sdr + str(idx) + '.png', 1)\n",
    "        orig_img = cv2.imread(src_path_orig + str(idx) + '.png', 1)\n",
    "        h,w,_ = orig_img.shape\n",
    "        new_h = math.floor(h/size)*size\n",
    "        aspect_ratio = w/h\n",
    "        new_w = new_h*int(aspect_ratio)\n",
    "        sdr_img = cv2.resize(sdr_img, (new_w,new_h))\n",
    "        orig_img = cv2.resize(orig_img, (new_w,new_h))\n",
    "        for j in range(int(new_h/size)):\n",
    "            for i in range(int(new_w/size)):\n",
    "                crop_orig = orig_img[j*size:(j+1)*size, i*size:(i+1)*size]\n",
    "                crop_sdr = sdr_img[j*size:(j+1)*size, i*size:(i+1)*size]\n",
    "                crop_orig = cv2.resize(crop_orig, (FINAL_SIZE,FINAL_SIZE))\n",
    "                crop_sdr = cv2.resize(crop_sdr, (FINAL_SIZE,FINAL_SIZE))\n",
    "                cv2.imwrite(dest_path_orig + str(k) + '.png', crop_orig)  \n",
    "                cv2.imwrite(dest_path_sdr + str(k) + '.png', crop_sdr)   \n",
    "#                 plt.imshow(crop_orig)\n",
    "#                 plt.show()\n",
    "#                 plt.imshow(crop_sdr)   \n",
    "#                 plt.show()\n",
    "                k+=1            "
   ]
  },
  {
   "cell_type": "code",
   "execution_count": null,
   "metadata": {},
   "outputs": [],
   "source": []
  }
 ],
 "metadata": {
  "kernelspec": {
   "display_name": "Python 3",
   "language": "python",
   "name": "python3"
  },
  "language_info": {
   "codemirror_mode": {
    "name": "ipython",
    "version": 3
   },
   "file_extension": ".py",
   "mimetype": "text/x-python",
   "name": "python",
   "nbconvert_exporter": "python",
   "pygments_lexer": "ipython3",
   "version": "3.6.9"
  }
 },
 "nbformat": 4,
 "nbformat_minor": 4
}
