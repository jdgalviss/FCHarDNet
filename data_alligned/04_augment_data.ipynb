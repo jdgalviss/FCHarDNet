{
 "cells": [
  {
   "cell_type": "code",
   "execution_count": 1,
   "metadata": {},
   "outputs": [],
   "source": [
    "import os\n",
    "import cv2\n",
    "import matplotlib.pyplot as plt\n",
    "# seed the pseudorandom number generator\n",
    "from random import seed\n",
    "from random import random\n",
    "from random import randint\n",
    "import numpy as np\n",
    "seed(0)"
   ]
  },
  {
   "cell_type": "code",
   "execution_count": 2,
   "metadata": {},
   "outputs": [
    {
     "name": "stdout",
     "output_type": "stream",
     "text": [
      "32400\n"
     ]
    }
   ],
   "source": [
    "sdr_folder = 'data/sdr/'\n",
    "orig_folder = 'data/original/'\n",
    "dest_sdr_folder = 'data_augmented/sdr/'\n",
    "dest_orig_folder = 'data_augmented/original/'\n",
    "\n",
    "\n",
    "image_paths = []\n",
    "for root, dirs, files in os.walk(sdr_folder, topdown=False):\n",
    "    for name in files:\n",
    "        image_paths.append(os.path.join(root, name))\n",
    "    #for name in dirs:\n",
    "     #   print(os.path.join(root, name))\n",
    "dataset_size = len(image_paths)\n",
    "print(dataset_size)"
   ]
  },
  {
   "cell_type": "code",
   "execution_count": 3,
   "metadata": {},
   "outputs": [],
   "source": [
    "def add_random_gaussian_blur(image):\n",
    "    k_size = 2*randint(0,1)+1\n",
    "    kernel = (k_size, k_size)\n",
    "    dst = cv2.GaussianBlur(image,kernel,cv2.BORDER_DEFAULT)\n",
    "    return dst\n",
    "    \n",
    "def add_random_median_blur(image):\n",
    "    k_size = randint(0,3)\n",
    "    if (k_size % 2) == 0:\n",
    "        return image\n",
    "    median = cv2.medianBlur(image,k_size)\n",
    "    return median\n",
    "def add_random_noise(image):\n",
    "    row,col,ch = image.shape\n",
    "    s_vs_p = 0.5\n",
    "    amount = 0.004\n",
    "    out = np.copy(image)\n",
    "    # Salt mode\n",
    "    num_salt = np.ceil(amount * image.size * s_vs_p)\n",
    "    coords = [np.random.randint(0, i - 1, int(num_salt))\n",
    "              for i in image.shape]\n",
    "    out[coords] = 255\n",
    "\n",
    "    # Pepper mode\n",
    "    num_pepper = np.ceil(amount* image.size * (1. - s_vs_p))\n",
    "    coords = [np.random.randint(0, i - 1, int(num_pepper))\n",
    "              for i in image.shape]\n",
    "    out[coords] = 0\n",
    "    return out\n",
    "def add_random_contrast(image):\n",
    "    if(randint(0,1) == 0):\n",
    "        return image\n",
    "    lab= cv2.cvtColor(image, cv2.COLOR_BGR2LAB)\n",
    "    l, a, b = cv2.split(lab)\n",
    "    clip_limit = random()*2.0 + 1.0\n",
    "    tile_grid_size = randint(6,9)\n",
    "    \n",
    "    clahe = cv2.createCLAHE(clipLimit=clip_limit, tileGridSize=(tile_grid_size,tile_grid_size))\n",
    "    cl = clahe.apply(l)\n",
    "    limg = cv2.merge((cl,a,b))\n",
    "    final = cv2.cvtColor(limg, cv2.COLOR_LAB2BGR)\n",
    "    return final\n",
    "\n",
    "def add_random_brightness(image):\n",
    "    img = image.copy()\n",
    "    brightness_factor = 0.8 + random()*0.3\n",
    "    img = np.float32(img)/255.0\n",
    "    img *= brightness_factor\n",
    "    img = np.clip(img,0.0,1.0)\n",
    "    out = np.uint8(img*255)\n",
    "    return out\n",
    "def add_random_color_inversion(image):\n",
    "    if(randint(0,1) == 0):\n",
    "        return image\n",
    "    return(np.uint8(255-image))"
   ]
  },
  {
   "cell_type": "code",
   "execution_count": 5,
   "metadata": {},
   "outputs": [
    {
     "name": "stdout",
     "output_type": "stream",
     "text": [
      "64801 images stored\n"
     ]
    }
   ],
   "source": [
    "k = 1\n",
    "for idx in range(1, dataset_size+1):\n",
    "    sdr_img = cv2.imread(sdr_folder+str(idx)+\".png\", 1)\n",
    "    orig_image = cv2.imread(orig_folder+str(idx)+\".png\", 1)\n",
    "    cv2.imwrite(dest_orig_folder + str(k) + \".png\", orig_image)\n",
    "    cv2.imwrite(dest_sdr_folder + str(k) + \".png\", sdr_img)\n",
    "    k += 1\n",
    "    aug = add_random_contrast(sdr_img)\n",
    "    aug = add_random_brightness(aug)\n",
    "    aug = add_random_gaussian_blur(aug)\n",
    "    aug = add_random_median_blur(aug)\n",
    "    cv2.imwrite(dest_orig_folder + str(k) + \".png\", orig_image)\n",
    "    cv2.imwrite(dest_sdr_folder + str(k) + \".png\", aug)\n",
    "    k+=1\n",
    "print(\"{} images stored\".format(k))"
   ]
  },
  {
   "cell_type": "code",
   "execution_count": 6,
   "metadata": {},
   "outputs": [
    {
     "name": "stdout",
     "output_type": "stream",
     "text": [
      "64800\n"
     ]
    }
   ],
   "source": [
    "image_paths = []\n",
    "for root, dirs, files in os.walk(dest_sdr_folder, topdown=False):\n",
    "    for name in files:\n",
    "        image_paths.append(os.path.join(root, name))\n",
    "    #for name in dirs:\n",
    "     #   print(os.path.join(root, name))\n",
    "dataset_size = len(image_paths)\n",
    "print(dataset_size)"
   ]
  },
  {
   "cell_type": "code",
   "execution_count": null,
   "metadata": {},
   "outputs": [],
   "source": []
  }
 ],
 "metadata": {
  "kernelspec": {
   "display_name": "Python 3",
   "language": "python",
   "name": "python3"
  },
  "language_info": {
   "codemirror_mode": {
    "name": "ipython",
    "version": 3
   },
   "file_extension": ".py",
   "mimetype": "text/x-python",
   "name": "python",
   "nbconvert_exporter": "python",
   "pygments_lexer": "ipython3",
   "version": "3.6.9"
  }
 },
 "nbformat": 4,
 "nbformat_minor": 4
}
